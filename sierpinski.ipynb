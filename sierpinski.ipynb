{
 "cells": [
  {
   "cell_type": "code",
   "execution_count": 1,
   "metadata": {},
   "outputs": [],
   "source": [
    "def print_sierpinski(n):\n",
    "    y = n - 1\n",
    "    while y >= 0:\n",
    "        # printing space till\n",
    "        # the value of y\n",
    "        i = 0\n",
    "        while i < y:\n",
    "            print(\" \", end=\"\")\n",
    "            i = i + 1\n",
    "\n",
    "        # printing '*'\n",
    "        x = 0\n",
    "        while x + y < n:\n",
    "            # printing '*' at the appropriate\n",
    "            # position is done by the and\n",
    "            # value of x and y wherever value\n",
    "            # is 0 we have printed '*'\n",
    "            if (x & y) != 0:\n",
    "                print(\" \", end=\" \")\n",
    "            else:\n",
    "                print(\"* \", end=\"\")\n",
    "            x = x + 1\n",
    "\n",
    "        print()\n",
    "        y = y - 1"
   ]
  },
  {
   "cell_type": "code",
   "execution_count": 2,
   "metadata": {},
   "outputs": [
    {
     "name": "stdout",
     "output_type": "stream",
     "text": [
      "                               * \n",
      "                              * * \n",
      "                             *   * \n",
      "                            * * * * \n",
      "                           *       * \n",
      "                          * *     * * \n",
      "                         *   *   *   * \n",
      "                        * * * * * * * * \n",
      "                       *               * \n",
      "                      * *             * * \n",
      "                     *   *           *   * \n",
      "                    * * * *         * * * * \n",
      "                   *       *       *       * \n",
      "                  * *     * *     * *     * * \n",
      "                 *   *   *   *   *   *   *   * \n",
      "                * * * * * * * * * * * * * * * * \n",
      "               *                               * \n",
      "              * *                             * * \n",
      "             *   *                           *   * \n",
      "            * * * *                         * * * * \n",
      "           *       *                       *       * \n",
      "          * *     * *                     * *     * * \n",
      "         *   *   *   *                   *   *   *   * \n",
      "        * * * * * * * *                 * * * * * * * * \n",
      "       *               *               *               * \n",
      "      * *             * *             * *             * * \n",
      "     *   *           *   *           *   *           *   * \n",
      "    * * * *         * * * *         * * * *         * * * * \n",
      "   *       *       *       *       *       *       *       * \n",
      "  * *     * *     * *     * *     * *     * *     * *     * * \n",
      " *   *   *   *   *   *   *   *   *   *   *   *   *   *   *   * \n",
      "* * * * * * * * * * * * * * * * * * * * * * * * * * * * * * * * \n"
     ]
    }
   ],
   "source": [
    "# Driver code\n",
    "n = 32\n",
    "\n",
    "# Function calling\n",
    "print_sierpinski(n)"
   ]
  },
  {
   "cell_type": "code",
   "execution_count": null,
   "metadata": {},
   "outputs": [],
   "source": []
  }
 ],
 "metadata": {
  "kernelspec": {
   "display_name": "venv",
   "language": "python",
   "name": "python3"
  },
  "language_info": {
   "codemirror_mode": {
    "name": "ipython",
    "version": 3
   },
   "file_extension": ".py",
   "mimetype": "text/x-python",
   "name": "python",
   "nbconvert_exporter": "python",
   "pygments_lexer": "ipython3",
   "version": "3.11.7"
  }
 },
 "nbformat": 4,
 "nbformat_minor": 2
}
